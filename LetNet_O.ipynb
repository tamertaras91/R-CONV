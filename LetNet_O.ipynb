{
  "cells": [
    {
      "cell_type": "code",
      "execution_count": 1,
      "metadata": {
        "colab": {
          "base_uri": "https://localhost:8080/"
        },
        "id": "NWa7Xo6PkIl3",
        "outputId": "e150aaca-6a7e-456b-e100-e3cd2040e766"
      },
      "outputs": [],
      "source": [
        "import numpy as np\n",
        "from pprint import pprint\n",
        "\n",
        "from PIL import Image\n",
        "import matplotlib.pyplot as plt\n",
        "\n",
        "import torch\n",
        "import torch.nn as nn\n",
        "import torch.nn.functional as F\n",
        "from torch.autograd import grad\n",
        "import torchvision\n",
        "from torchvision import models, datasets, transforms\n",
        "import torchvision.transforms as T\n",
        "from skimage.metrics import mean_squared_error, structural_similarity\n",
        "from skimage.io import imread\n",
        "from skimage.color import rgb2gray\n",
        "\n",
        "torch.manual_seed(50)\n",
        "torch.set_default_dtype(torch.float64)"
      ]
    },
    {
      "cell_type": "code",
      "execution_count": 2,
      "metadata": {
        "colab": {
          "base_uri": "https://localhost:8080/"
        },
        "id": "VjKWqs2akepH",
        "outputId": "248e5f68-6414-4e11-8ad1-37e2df07469d"
      },
      "outputs": [
        {
          "name": "stdout",
          "output_type": "stream",
          "text": [
            "Files already downloaded and verified\n"
          ]
        }
      ],
      "source": [
        "dst = datasets.CIFAR100(\"~/.torch\", download=True)\n",
        "tp = transforms.Compose([\n",
        "    transforms.Resize(32),\n",
        "    transforms.CenterCrop(32),\n",
        "    transforms.ToTensor()\n",
        "])\n",
        "tt = transforms.ToPILImage()\n",
        "\n",
        "device = \"cpu\"\n",
        "# if torch.cuda.is_available():\n",
        "#     device = \"cuda\"\n",
        "# print(\"Running on %s\" % device)\n",
        "\n",
        "def label_to_onehot(target, num_classes=100):\n",
        "    target = torch.unsqueeze(target, 1)\n",
        "    onehot_target = torch.zeros(target.size(0), num_classes, device=target.device)\n",
        "    onehot_target.scatter_(1, target, 1)\n",
        "    return onehot_target\n",
        "\n",
        "def cross_entropy_for_onehot(pred, target):\n",
        "    return torch.mean(torch.sum(- target * F.log_softmax(pred, dim=-1), 1))"
      ]
    },
    {
      "cell_type": "code",
      "execution_count": 3,
      "metadata": {
        "id": "AorI020iVjjS"
      },
      "outputs": [],
      "source": [
        "def weights_init(m):\n",
        "    if hasattr(m, \"weight\"):\n",
        "        m.weight.data.uniform_(-.5, .5)\n",
        "    if hasattr(m, \"bias\"):\n",
        "        m.bias.data.uniform_(-0.5, 0.5)\n",
        "\n",
        "class LeNet(nn.Module):\n",
        "    def __init__(self):\n",
        "        super(LeNet, self).__init__()\n",
        "\n",
        "        act_relu=nn.ReLU\n",
        "        act = nn.LeakyReLU(negative_slope=0.2)\n",
        "        self.body = nn.Sequential(\n",
        "        nn.Conv2d(3, 12, kernel_size=5, padding=5//2, stride=2,padding_mode='zeros'),\n",
        "        act,  \n",
        "        nn.Conv2d(12, 16, kernel_size=5,padding=5//2, stride=2,padding_mode='zeros'),\n",
        "        act,\n",
        "        nn.Conv2d(16, 3, kernel_size=5, padding=5//2, stride=1,padding_mode='zeros'),\n",
        "        act_relu(),\n",
        "        nn.Conv2d(3, 3, kernel_size=5, padding=5//2, stride=1,padding_mode='zeros'),\n",
        "        act_relu(),\n",
        "        )\n",
        "        self.fc = nn.Sequential(\n",
        "            nn.Linear(192, 100)\n",
        "        )\n",
        "\n",
        "    def forward(self, x):\n",
        "        out = self.body(x)\n",
        "        out=out.view(out.size(0),-1)\n",
        "        out=self.fc(out)\n",
        "        return out,x\n",
        "net = LeNet().to(device)\n",
        "net.apply(weights_init)\n",
        "criterion = cross_entropy_for_onehot"
      ]
    },
    {
      "cell_type": "code",
      "execution_count": 4,
      "metadata": {
        "colab": {
          "base_uri": "https://localhost:8080/",
          "height": 487
        },
        "id": "8mSgR4GClV-8",
        "outputId": "abe34e49-905b-4d53-f8cb-d7cf1347e9b1"
      },
      "outputs": [],
      "source": [
        "######### Feed the image to the network and compute gradients #########\n",
        "img_index = 12\n",
        "gt_data = tp(dst[img_index][0]).to(device)\n",
        "gt_data = gt_data.view(1, *gt_data.size())\n",
        "gt_label = torch.Tensor([dst[img_index][1]]).long().to(device)\n",
        "gt_label = gt_label.view(1, )\n",
        "gt_onehot_label = label_to_onehot(gt_label, num_classes=100)\n",
        "\n",
        "\n",
        "out,org_x = net(gt_data)\n",
        "y = criterion(out, gt_onehot_label)\n",
        "\n",
        "dy_dx = torch.autograd.grad(y, net.parameters())\n",
        "\n",
        "# Extract the gradients and initial parameters\n",
        "original_dy_dx = [_.numpy() for _ in dy_dx]\n",
        "param = [i.detach().numpy() for i in net.parameters() if i.requires_grad]"
      ]
    },
    {
      "cell_type": "markdown",
      "metadata": {},
      "source": [
        "Function to return the details of the layers (e.g., input dimensions, number of filters, padding, stride) for use at runtime"
      ]
    },
    {
      "cell_type": "code",
      "execution_count": 5,
      "metadata": {},
      "outputs": [],
      "source": [
        "def inspect_model(model,x_dim=32):\n",
        "    conv_layers = []\n",
        "    fc_layers = []\n",
        "    parmeter_index=0   # Hold the index of the parameters of each layer\n",
        "    input_dim=x_dim\n",
        "    input_dim_fc=0\n",
        "    act_fun=''\n",
        "    for module in model.modules():\n",
        "        if isinstance(module, nn.Conv2d):\n",
        "            output_dim=int((input_dim+2*module.padding[0]-module.kernel_size[0])/module.stride[0])+1\n",
        "            layer_details = {\n",
        "                'param_index':parmeter_index,\n",
        "                'input_channel': module.in_channels,\n",
        "                'number_filters': module.out_channels,\n",
        "                'stride': module.stride[0],\n",
        "                'padding': module.padding[0],\n",
        "                'kernel': module.kernel_size[0],\n",
        "                'input_dim':input_dim,\n",
        "                'output_dim':output_dim,\n",
        "                'act_fun':act_fun\n",
        "            }\n",
        "            conv_layers.append(layer_details)\n",
        "            input_dim=output_dim\n",
        "            input_dim_fc=input_dim**2*module.out_channels\n",
        "            parmeter_index+=2\n",
        "        elif isinstance(module, nn.Linear):\n",
        "            layer_fc_details = {\n",
        "                'param_index':parmeter_index,\n",
        "                'input_dim':(input_dim_fc),\n",
        "                'output_dim':module.out_features\n",
        "            }\n",
        "            fc_layers.append(layer_fc_details)\n",
        "            input_dim_fc=module.out_features\n",
        "            parmeter_index+=2\n",
        "        elif isinstance(module, (nn.ReLU, nn.LeakyReLU, nn.Sigmoid, nn.Tanh)):\n",
        "            act_fun=str(module.__class__).split(\".\")[-1].split(\"'\")[0]\n",
        "            conv_layers[-1]['act_fun']=act_fun\n",
        "    return conv_layers,fc_layers"
      ]
    },
    {
      "cell_type": "markdown",
      "metadata": {},
      "source": [
        "Function to compute the gradient w.r.t the input of the convolutional layer"
      ]
    },
    {
      "cell_type": "code",
      "execution_count": 6,
      "metadata": {},
      "outputs": [],
      "source": [
        "def drive_gradient(input_shape,weights,output_gradients,stride,padding):\n",
        "    weights = torch.tensor(weights, requires_grad=True)\n",
        "    input_tensor = torch.randn(input_shape, requires_grad=True)\n",
        "    dL_dY = output_gradients\n",
        "    \n",
        "    # dummy forward pass to build the computational graph\n",
        "    output = F.conv2d(input_tensor, weights, stride=stride, padding=padding)\n",
        "    output.backward(dL_dY)\n",
        "    dL_dX= input_tensor.grad\n",
        "    return dL_dX\n"
      ]
    },
    {
      "cell_type": "markdown",
      "metadata": {},
      "source": [
        "Function to reconstruct the input of a convolutional layer using gradient constraints"
      ]
    },
    {
      "cell_type": "code",
      "execution_count": 7,
      "metadata": {},
      "outputs": [],
      "source": [
        "def construt_input_using_gradients(num_f,num_c,dim_x,output_gradient,weight_gradeint,padding,stride,kernal=5):\n",
        "    input_matrix=dim_x*dim_x\n",
        "    pad_dim=dim_x+2*padding\n",
        "    a=np.array(output_gradient)\n",
        "    Filters_gradients=np.array(weight_gradeint).reshape(num_f,num_c,kernal,kernal)\n",
        "    x=[]\n",
        "    indices=[]\n",
        "    for n in range(num_c):\n",
        "        cord_a=[]\n",
        "        cord_b=[]\n",
        "        rank=0\n",
        "        for i in range(num_f):\n",
        "            for k in range(kernal):\n",
        "                for l in range(kernal):\n",
        "                    if(rank==input_matrix):\n",
        "                        break\n",
        "                    cord_b.append(Filters_gradients[i][n][k][l])\n",
        "                    array_gradients=np.zeros(pad_dim**2).reshape(pad_dim,pad_dim)\n",
        "                    array_gradients[k:k+dim_x:stride,l:l+dim_x:stride]=a[i:i+1]\n",
        "                    cord_a.append(array_gradients[padding:padding+dim_x,padding:padding+dim_x].reshape(input_matrix))\n",
        "                    if(n==0):\n",
        "                        current_rank=np.linalg.matrix_rank(cord_a)\n",
        "                        if (current_rank==rank):\n",
        "                            indices.append(i*25+k*5+l)\n",
        "                            cord_a=cord_a[:-1]\n",
        "                            cord_b=cord_b[:-1]\n",
        "                        rank=current_rank\n",
        "        if n!=0:\n",
        "            cord_a=np.delete(cord_a,indices,axis=0)\n",
        "            cord_b=np.delete(cord_b,indices,axis=0)\n",
        "            cord_a=cord_a[0:input_matrix]\n",
        "            cord_b=cord_b[0:input_matrix]\n",
        "        sol=np.linalg.solve(cord_a,cord_b)\n",
        "        sol2=sol.reshape(dim_x,dim_x)\n",
        "        x.append(sol2)\n",
        "    x=np.array(x).reshape(num_c,dim_x,dim_x)\n",
        "    return x"
      ]
    },
    {
      "cell_type": "markdown",
      "metadata": {},
      "source": [
        "Function to reconstruct the input of a convolutional layer using weight constraints"
      ]
    },
    {
      "cell_type": "code",
      "execution_count": 8,
      "metadata": {},
      "outputs": [],
      "source": [
        "def construt_input_using_weights(num_filters,num_c,dim_x,Y,W,pad,stride,kernal=5):\n",
        "    a=[]\n",
        "    b=[]\n",
        "    dim=dim_x**2\n",
        "    pdim=dim_x+pad\n",
        "    for n in range(num_filters):\n",
        "        q=0\n",
        "        for k in range(0,dim_x,stride):\n",
        "            v=0\n",
        "            for l in range(0,dim_x,stride):\n",
        "                a_row=np.zeros(dim_x**2*num_c)\n",
        "                for c in range(num_c):\n",
        "                    x1_=np.zeros((dim_x+2*pad)**2).reshape(dim_x+2*pad,dim_x+2*pad)\n",
        "                    x1_[k:k+kernal,l:l+kernal]=W[n][c]\n",
        "                    a_row[c*dim:dim+c*dim]=x1_[pad:pdim,pad:pdim].reshape(dim)\n",
        "                a.append(a_row)\n",
        "                b.append(Y[n][q][v])\n",
        "                v+=1\n",
        "            q+=1\n",
        "    sol=np.linalg.solve(a[:dim_x**2*num_c],b[:dim_x**2*num_c]).reshape(num_c,dim_x,dim_x)\n",
        "    return sol"
      ]
    },
    {
      "cell_type": "markdown",
      "metadata": {},
      "source": [
        "Reconstruct the input and the gradient w.r.t the input of the first fully connected layer"
      ]
    },
    {
      "cell_type": "code",
      "execution_count": 9,
      "metadata": {},
      "outputs": [],
      "source": [
        "cnn_layers,fc_layers=inspect_model(net)\n",
        "FC=fc_layers[0]\n",
        "in_dim=FC['input_dim']\n",
        "out_dim=FC['output_dim']\n",
        "w_index=FC['param_index']\n",
        "b_index=w_index+1\n",
        "#Compute The gradient w.r.t input to FC sum ( bias * weight)\n",
        "\n",
        "FC_input_gradient=np.zeros(in_dim)\n",
        "FC_input_values=np.zeros(in_dim)\n",
        "for i in range(out_dim):\n",
        "    for n in range(in_dim):\n",
        "      FC_input_gradient[n]+= original_dy_dx[b_index][i]*param[w_index][i][n]\n",
        "      \n",
        "# Compute the values of the input of FC ( weigh/bias)\n",
        "\n",
        "for n in range(in_dim):\n",
        "  for k in range(out_dim):\n",
        "    if original_dy_dx[b_index][k]!=0:\n",
        "      FC_input_values[n]= original_dy_dx[w_index][k][n]/original_dy_dx[b_index][k]\n",
        "\n",
        "Computed_gradients= torch.tensor(FC_input_gradient.copy())\n",
        "Computed_values=FC_input_values.copy()\n",
        "    "
      ]
    },
    {
      "cell_type": "markdown",
      "metadata": {},
      "source": [
        "Reconstruct the input and compute the gradient with respect to the input of the convolutional layers:<br>\n",
        "For each layer :<br>\n",
        "    1- Propagating the precomputed gradient of the subsequent layer through the activation function<br>\n",
        "    2- Constructing the input based on gradient constraints<br>\n",
        "    3-Computing the gradient with respect to the input<br>"
      ]
    },
    {
      "cell_type": "code",
      "execution_count": 10,
      "metadata": {
        "colab": {
          "base_uri": "https://localhost:8080/",
          "height": 211
        },
        "id": "UE93IXSq41tt",
        "outputId": "3811071d-3de3-4ef4-f488-088890a5c2c0"
      },
      "outputs": [],
      "source": [
        "for n in range(len(cnn_layers)-1,-1,-1):\n",
        "  # Extract the layer setting \n",
        "  cnn=cnn_layers[n]\n",
        "  num_filters=cnn['number_filters']\n",
        "  num_c=cnn['input_channel']\n",
        "  dim_x=cnn['input_dim']\n",
        "  w_index=cnn['param_index']\n",
        "  weight_gradient=original_dy_dx[w_index]\n",
        "  output_gradient= Computed_gradients\n",
        "  padding=cnn['padding']\n",
        "  stride=cnn['stride']\n",
        "  out_dim=cnn['output_dim']\n",
        "  act_fun=cnn['act_fun']\n",
        "  # Propagate the gradient through the activation Funciton\n",
        "  Computed_values=Computed_values.reshape(out_dim**2*num_filters)\n",
        "  output_gradient=output_gradient.reshape(out_dim**2*num_filters)\n",
        "  output_values=Computed_values.reshape(out_dim**2*num_filters)\n",
        "  for i in range(out_dim**2*num_filters):\n",
        "    if(act_fun=='ReLU'):\n",
        "      if np.round(Computed_values[i],7)<=0:\n",
        "        output_gradient[i]=0\n",
        "    elif(act_fun=='LeakyReLU'):\n",
        "      if np.round(Computed_values[i],7)<0:\n",
        "        output_gradient[i]=output_gradient[i]*0.2\n",
        "        output_values[i]=output_values[i]/0.2\n",
        "  \n",
        "  if(n!=0):   # check if reached the first convloution layer        \n",
        "    output_gradient=output_gradient.clone().detach()\n",
        "    output_gradient=output_gradient.reshape(num_filters,out_dim,out_dim)\n",
        "\n",
        "    # construct the output_values of the layer\n",
        "    x=construt_input_using_gradients(num_filters,num_c,dim_x,output_gradient,weight_gradient,padding,stride)\n",
        "    # Compute the gradient w.r.t input of the layer\n",
        "    dL_dX_CNN= drive_gradient(x.shape,param[w_index],output_gradient,stride,padding)\n",
        "\n",
        "    Computed_gradients= dL_dX_CNN\n",
        "    Computed_values=x\n",
        "  else:      # in case of the first convloution layer we construct the input using weight constrains\n",
        "    Y=output_values.reshape(num_filters,out_dim,out_dim)\n",
        "    weights = param[w_index] \n",
        "    bias=param[w_index+1]\n",
        "    for i in range(num_filters):\n",
        "        Y[i]=Y[i]-bias[i]\n",
        "    sol= construt_input_using_weights(num_filters,num_c,dim_x,Y,weights,padding,stride)"
      ]
    },
    {
      "cell_type": "markdown",
      "metadata": {},
      "source": [
        "View Reconstructed Image"
      ]
    },
    {
      "cell_type": "code",
      "execution_count": 11,
      "metadata": {},
      "outputs": [
        {
          "data": {
            "text/plain": [
              "(-0.5, 31.5, 31.5, -0.5)"
            ]
          },
          "execution_count": 11,
          "metadata": {},
          "output_type": "execute_result"
        },
        {
          "data": {
            "image/png": "[encoded data removed]",
            "text/plain": [
              "<Figure size 640x480 with 2 Axes>"
            ]
          },
          "metadata": {},
          "output_type": "display_data"
        }
      ],
      "source": [
        "reconstructed_val=torch.tensor(sol).reshape(3,32,32)\n",
        "oringinal_val=org_x.clone().detach()\n",
        "oringinal_val=oringinal_val.reshape(3,32,32)\n",
        "plt.subplot(1, 2,  1)\n",
        "plt.imshow(tt(oringinal_val))\n",
        "plt.title(\"Original\")\n",
        "plt.axis('off')\n",
        "plt.subplot(1, 2,  2)\n",
        "plt.imshow(tt(reconstructed_val))\n",
        "plt.title(\"reconstructed\")\n",
        "plt.axis('off')\n"
      ]
    },
    {
      "cell_type": "code",
      "execution_count": 12,
      "metadata": {},
      "outputs": [
        {
          "name": "stdout",
          "output_type": "stream",
          "text": [
            "The Error in the construction(MSE): 1.1264123494237117e-18\n",
            "PSNR:  227.6138295765548\n"
          ]
        }
      ],
      "source": [
        "#measure the quality of the image\n",
        "\n",
        "mse=mean_squared_error(np.array(oringinal_val),np.array(reconstructed_val))\n",
        "print(f'The Error in the construction(MSE): {mse}')\n",
        "\n",
        "Max=255\n",
        "PSNR = 20*np.log10(Max)-10*np.log10(mse)\n",
        "print(\"PSNR: \",PSNR)"
      ]
    }
  ],
  "metadata": {
    "accelerator": "GPU",
    "colab": {
      "provenance": []
    },
    "kernelspec": {
      "display_name": "Python 3",
      "name": "python3"
    },
    "language_info": {
      "codemirror_mode": {
        "name": "ipython",
        "version": 3
      },
      "file_extension": ".py",
      "mimetype": "text/x-python",
      "name": "python",
      "nbconvert_exporter": "python",
      "pygments_lexer": "ipython3",
      "version": "3.12.2"
    }
  },
  "nbformat": 4,
  "nbformat_minor": 0
}
